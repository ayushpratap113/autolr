{
 "cells": [
  {
   "cell_type": "code",
   "execution_count": 1,
   "metadata": {},
   "outputs": [],
   "source": [
    "from autolr import AutoLogisticRegression"
   ]
  },
  {
   "cell_type": "code",
   "execution_count": 2,
   "metadata": {},
   "outputs": [],
   "source": [
    "path = \"./train.csv\"\n",
    "target = 'price_range'\n",
    "lr = AutoLogisticRegression(path,target,\".\")"
   ]
  },
  {
   "cell_type": "code",
   "execution_count": 3,
   "metadata": {},
   "outputs": [
    {
     "name": "stdout",
     "output_type": "stream",
     "text": [
      "Accuracy: 0.8825\n",
      "Classification Report:\n",
      "              precision    recall  f1-score   support\n",
      "\n",
      "           0       1.00      0.96      0.98       105\n",
      "           1       0.78      0.75      0.76        91\n",
      "           2       0.74      0.79      0.77        92\n",
      "           3       0.97      0.99      0.98       112\n",
      "\n",
      "    accuracy                           0.88       400\n",
      "   macro avg       0.88      0.87      0.87       400\n",
      "weighted avg       0.88      0.88      0.88       400\n",
      "\n",
      "Confusion Matrix:\n",
      "[[101   3   1   0]\n",
      " [  0  68  23   0]\n",
      " [  0  16  73   3]\n",
      " [  0   0   1 111]]\n",
      "          feature  importance\n",
      "13            ram  -33.460160\n",
      "0   battery_power   -8.365118\n",
      "11      px_height   -5.298937\n",
      "12       px_width   -4.471836\n",
      "8       mobile_wt    1.240692\n",
      "5          four_g    0.746708\n",
      "6      int_memory   -0.395408\n",
      "16      talk_time    0.368913\n",
      "19           wifi    0.326733\n",
      "9         n_cores   -0.292411\n",
      "3        dual_sim    0.274516\n",
      "2     clock_speed    0.256458\n",
      "10             pc    0.231559\n",
      "14           sc_h    0.219547\n",
      "18   touch_screen    0.202915\n",
      "17        three_g   -0.150545\n",
      "1            blue   -0.136537\n",
      "15           sc_w   -0.121357\n",
      "4              fc   -0.058863\n",
      "7           m_dep    0.040198\n"
     ]
    }
   ],
   "source": [
    "lr.train()\n"
   ]
  },
  {
   "cell_type": "code",
   "execution_count": null,
   "metadata": {},
   "outputs": [],
   "source": []
  }
 ],
 "metadata": {
  "kernelspec": {
   "display_name": "base",
   "language": "python",
   "name": "python3"
  },
  "language_info": {
   "codemirror_mode": {
    "name": "ipython",
    "version": 3
   },
   "file_extension": ".py",
   "mimetype": "text/x-python",
   "name": "python",
   "nbconvert_exporter": "python",
   "pygments_lexer": "ipython3",
   "version": "3.9.12"
  }
 },
 "nbformat": 4,
 "nbformat_minor": 2
}
